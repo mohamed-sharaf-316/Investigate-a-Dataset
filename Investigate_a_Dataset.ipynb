{
 "cells": [
  {
   "cell_type": "markdown",
   "metadata": {},
   "source": [
    "\n",
    "# Project: Investigate a Dataset - [TMDB]\n",
    "\n",
    "## Table of Contents\n",
    "<ul>\n",
    "<li><a href=\"#intro\">Introduction</a></li>\n",
    "<li><a href=\"#wrangling\">Data Wrangling</a></li>\n",
    "<li><a href=\"#eda\">Exploratory Data Analysis</a></li>\n",
    "<li><a href=\"#conclusions\">Conclusions</a></li>\n",
    "</ul>"
   ]
  },
  {
   "cell_type": "markdown",
   "metadata": {},
   "source": [
    "<a id='intro'></a>\n",
    "## Introduction\n",
    "\n",
    "### Dataset Description \n",
    "\n",
    "> I've selected the **TMDB** dataset since I'm a movie fan and I'm familiar with IMDB and how ratings work and all data concerning a movie. The columns present in this dataset are [id,imdb_id,popularity,budget,revenue,original_title,cast,homepage,director,tagline,keywords,overview,runtime,genres,production_companies,release_date,vote_count,vote_average,release_year,budget_adj,revenue_adj].\n",
    "\n",
    "### Question(s) for Analysis\n",
    "> 1-Do older movies have higher average rating?\n",
    "2-What kinds of properties are associated with movies that have high revenues?\n",
    "3-Which genres are most popular from year to year?\n",
    "4-Rank all movies directed by Christopher Nolan from worse to best"
   ]
  },
  {
   "cell_type": "code",
   "execution_count": 66,
   "metadata": {},
   "outputs": [],
   "source": [
    "import pandas as pd\n",
    "import numpy as np\n",
    "import matplotlib.pyplot as plt\n",
    "%matplotlib inline"
   ]
  },
  {
   "cell_type": "markdown",
   "metadata": {
    "collapsed": true
   },
   "source": [
    "Importing all packages used in this analysis\n"
   ]
  },
  {
   "cell_type": "code",
   "execution_count": 2,
   "metadata": {},
   "outputs": [
    {
     "name": "stdout",
     "output_type": "stream",
     "text": [
      "Collecting pandas==0.25.0\n",
      "\u001b[?25l  Downloading https://files.pythonhosted.org/packages/1d/9a/7eb9952f4b4d73fbd75ad1d5d6112f407e695957444cb695cbb3cdab918a/pandas-0.25.0-cp36-cp36m-manylinux1_x86_64.whl (10.5MB)\n",
      "\u001b[K    100% |████████████████████████████████| 10.5MB 2.1MB/s eta 0:00:01   18% |██████                          | 1.9MB 22.2MB/s eta 0:00:01    28% |█████████                       | 2.9MB 17.5MB/s eta 0:00:01    37% |████████████                    | 3.9MB 20.0MB/s eta 0:00:01    46% |██████████████▉                 | 4.8MB 20.0MB/s eta 0:00:01    84% |███████████████████████████     | 8.8MB 23.1MB/s eta 0:00:01\n",
      "\u001b[?25hRequirement already satisfied, skipping upgrade: python-dateutil>=2.6.1 in /opt/conda/lib/python3.6/site-packages (from pandas==0.25.0) (2.6.1)\n",
      "Collecting numpy>=1.13.3 (from pandas==0.25.0)\n",
      "\u001b[?25l  Downloading https://files.pythonhosted.org/packages/45/b2/6c7545bb7a38754d63048c7696804a0d947328125d81bf12beaa692c3ae3/numpy-1.19.5-cp36-cp36m-manylinux1_x86_64.whl (13.4MB)\n",
      "\u001b[K    100% |████████████████████████████████| 13.4MB 1.6MB/s eta 0:00:01   14% |████▉                           | 2.0MB 22.5MB/s eta 0:00:01    30% |█████████▊                      | 4.1MB 18.3MB/s eta 0:00:01    36% |███████████▊                    | 4.9MB 17.6MB/s eta 0:00:01    43% |█████████████▊                  | 5.8MB 17.8MB/s eta 0:00:01    61% |███████████████████▉            | 8.3MB 16.2MB/s eta 0:00:01    67% |█████████████████████▋          | 9.1MB 17.1MB/s eta 0:00:01    74% |███████████████████████▊        | 9.9MB 17.7MB/s eta 0:00:01    80% |█████████████████████████▉      | 10.8MB 17.7MB/s eta 0:00:01    94% |██████████████████████████████  | 12.6MB 19.2MB/s eta 0:00:01\n",
      "\u001b[?25hRequirement already satisfied, skipping upgrade: pytz>=2017.2 in /opt/conda/lib/python3.6/site-packages (from pandas==0.25.0) (2017.3)\n",
      "Requirement already satisfied, skipping upgrade: six>=1.5 in /opt/conda/lib/python3.6/site-packages (from python-dateutil>=2.6.1->pandas==0.25.0) (1.11.0)\n",
      "\u001b[31mtensorflow 1.3.0 requires tensorflow-tensorboard<0.2.0,>=0.1.0, which is not installed.\u001b[0m\n",
      "Installing collected packages: numpy, pandas\n",
      "  Found existing installation: numpy 1.12.1\n",
      "    Uninstalling numpy-1.12.1:\n",
      "      Successfully uninstalled numpy-1.12.1\n",
      "  Found existing installation: pandas 0.23.3\n",
      "    Uninstalling pandas-0.23.3:\n",
      "      Successfully uninstalled pandas-0.23.3\n",
      "Successfully installed numpy-1.19.5 pandas-0.25.0\n"
     ]
    }
   ],
   "source": [
    " !pip install --upgrade pandas==0.25.0"
   ]
  },
  {
   "cell_type": "markdown",
   "metadata": {},
   "source": [
    "Upgrading pandas"
   ]
  },
  {
   "cell_type": "markdown",
   "metadata": {},
   "source": [
    "<a id='wrangling'></a>\n",
    "## Data Wrangling\n",
    "\n",
    "\n",
    "\n",
    "\n",
    "\n"
   ]
  },
  {
   "cell_type": "code",
   "execution_count": 67,
   "metadata": {},
   "outputs": [
    {
     "name": "stdout",
     "output_type": "stream",
     "text": [
      "       id    imdb_id  popularity     budget     revenue  \\\n",
      "0  135397  tt0369610   32.985763  150000000  1513528810   \n",
      "1   76341  tt1392190   28.419936  150000000   378436354   \n",
      "2  262500  tt2908446   13.112507  110000000   295238201   \n",
      "3  140607  tt2488496   11.173104  200000000  2068178225   \n",
      "4  168259  tt2820852    9.335014  190000000  1506249360   \n",
      "\n",
      "                 original_title  \\\n",
      "0                Jurassic World   \n",
      "1            Mad Max: Fury Road   \n",
      "2                     Insurgent   \n",
      "3  Star Wars: The Force Awakens   \n",
      "4                     Furious 7   \n",
      "\n",
      "                                                cast  \\\n",
      "0  Chris Pratt|Bryce Dallas Howard|Irrfan Khan|Vi...   \n",
      "1  Tom Hardy|Charlize Theron|Hugh Keays-Byrne|Nic...   \n",
      "2  Shailene Woodley|Theo James|Kate Winslet|Ansel...   \n",
      "3  Harrison Ford|Mark Hamill|Carrie Fisher|Adam D...   \n",
      "4  Vin Diesel|Paul Walker|Jason Statham|Michelle ...   \n",
      "\n",
      "                                            homepage          director  \\\n",
      "0                      http://www.jurassicworld.com/   Colin Trevorrow   \n",
      "1                        http://www.madmaxmovie.com/     George Miller   \n",
      "2     http://www.thedivergentseries.movie/#insurgent  Robert Schwentke   \n",
      "3  http://www.starwars.com/films/star-wars-episod...       J.J. Abrams   \n",
      "4                           http://www.furious7.com/         James Wan   \n",
      "\n",
      "                         tagline      ...       \\\n",
      "0              The park is open.      ...        \n",
      "1             What a Lovely Day.      ...        \n",
      "2     One Choice Can Destroy You      ...        \n",
      "3  Every generation has a story.      ...        \n",
      "4            Vengeance Hits Home      ...        \n",
      "\n",
      "                                            overview runtime  \\\n",
      "0  Twenty-two years after the events of Jurassic ...     124   \n",
      "1  An apocalyptic story set in the furthest reach...     120   \n",
      "2  Beatrice Prior must confront her inner demons ...     119   \n",
      "3  Thirty years after defeating the Galactic Empi...     136   \n",
      "4  Deckard Shaw seeks revenge against Dominic Tor...     137   \n",
      "\n",
      "                                      genres  \\\n",
      "0  Action|Adventure|Science Fiction|Thriller   \n",
      "1  Action|Adventure|Science Fiction|Thriller   \n",
      "2         Adventure|Science Fiction|Thriller   \n",
      "3   Action|Adventure|Science Fiction|Fantasy   \n",
      "4                      Action|Crime|Thriller   \n",
      "\n",
      "                                production_companies release_date vote_count  \\\n",
      "0  Universal Studios|Amblin Entertainment|Legenda...       6/9/15       5562   \n",
      "1  Village Roadshow Pictures|Kennedy Miller Produ...      5/13/15       6185   \n",
      "2  Summit Entertainment|Mandeville Films|Red Wago...      3/18/15       2480   \n",
      "3          Lucasfilm|Truenorth Productions|Bad Robot     12/15/15       5292   \n",
      "4  Universal Pictures|Original Film|Media Rights ...       4/1/15       2947   \n",
      "\n",
      "   vote_average  release_year    budget_adj   revenue_adj  \n",
      "0           6.5          2015  1.379999e+08  1.392446e+09  \n",
      "1           7.1          2015  1.379999e+08  3.481613e+08  \n",
      "2           6.3          2015  1.012000e+08  2.716190e+08  \n",
      "3           7.5          2015  1.839999e+08  1.902723e+09  \n",
      "4           7.3          2015  1.747999e+08  1.385749e+09  \n",
      "\n",
      "[5 rows x 21 columns]\n"
     ]
    }
   ],
   "source": [
    "df = pd.read_csv('Database_TMDb_movie_data/tmdb-movies.csv')\n",
    "print(df.head())"
   ]
  },
  {
   "cell_type": "markdown",
   "metadata": {},
   "source": [
    "Loading the dataset and viewing first 5 rows"
   ]
  },
  {
   "cell_type": "code",
   "execution_count": 50,
   "metadata": {},
   "outputs": [
    {
     "name": "stdout",
     "output_type": "stream",
     "text": [
      "<class 'pandas.core.frame.DataFrame'>\n",
      "RangeIndex: 10866 entries, 0 to 10865\n",
      "Data columns (total 21 columns):\n",
      "id                      10866 non-null int64\n",
      "imdb_id                 10856 non-null object\n",
      "popularity              10866 non-null float64\n",
      "budget                  10866 non-null int64\n",
      "revenue                 10866 non-null int64\n",
      "original_title          10866 non-null object\n",
      "cast                    10790 non-null object\n",
      "homepage                2936 non-null object\n",
      "director                10822 non-null object\n",
      "tagline                 8042 non-null object\n",
      "keywords                9373 non-null object\n",
      "overview                10862 non-null object\n",
      "runtime                 10866 non-null int64\n",
      "genres                  10843 non-null object\n",
      "production_companies    9836 non-null object\n",
      "release_date            10866 non-null object\n",
      "vote_count              10866 non-null int64\n",
      "vote_average            10866 non-null float64\n",
      "release_year            10866 non-null int64\n",
      "budget_adj              10866 non-null float64\n",
      "revenue_adj             10866 non-null float64\n",
      "dtypes: float64(4), int64(6), object(11)\n",
      "memory usage: 1.7+ MB\n",
      "None\n"
     ]
    }
   ],
   "source": [
    "print(df.info())"
   ]
  },
  {
   "cell_type": "markdown",
   "metadata": {},
   "source": [
    "Understanding each column's datatype"
   ]
  },
  {
   "cell_type": "code",
   "execution_count": 51,
   "metadata": {},
   "outputs": [
    {
     "data": {
      "text/plain": [
       "id                         0\n",
       "imdb_id                   10\n",
       "popularity                 0\n",
       "budget                     0\n",
       "revenue                    0\n",
       "original_title             0\n",
       "cast                      76\n",
       "homepage                7930\n",
       "director                  44\n",
       "tagline                 2824\n",
       "keywords                1493\n",
       "overview                   4\n",
       "runtime                    0\n",
       "genres                    23\n",
       "production_companies    1030\n",
       "release_date               0\n",
       "vote_count                 0\n",
       "vote_average               0\n",
       "release_year               0\n",
       "budget_adj                 0\n",
       "revenue_adj                0\n",
       "dtype: int64"
      ]
     },
     "execution_count": 51,
     "metadata": {},
     "output_type": "execute_result"
    }
   ],
   "source": [
    "df.isna().sum()"
   ]
  },
  {
   "cell_type": "markdown",
   "metadata": {},
   "source": [
    "Finding out how many nulls are available in the dataset if any"
   ]
  },
  {
   "cell_type": "code",
   "execution_count": 44,
   "metadata": {},
   "outputs": [
    {
     "data": {
      "text/plain": [
       "1"
      ]
     },
     "execution_count": 44,
     "metadata": {},
     "output_type": "execute_result"
    }
   ],
   "source": [
    "df.duplicated().sum()"
   ]
  },
  {
   "cell_type": "markdown",
   "metadata": {},
   "source": [
    "Finding out how many duplicates are available"
   ]
  },
  {
   "cell_type": "markdown",
   "metadata": {},
   "source": [
    "\n",
    "### Data Cleaning\n",
    "\n",
    " "
   ]
  },
  {
   "cell_type": "code",
   "execution_count": 68,
   "metadata": {},
   "outputs": [
    {
     "name": "stdout",
     "output_type": "stream",
     "text": [
      "   popularity     budget     revenue                original_title  \\\n",
      "0   32.985763  150000000  1513528810                Jurassic World   \n",
      "1   28.419936  150000000   378436354            Mad Max: Fury Road   \n",
      "2   13.112507  110000000   295238201                     Insurgent   \n",
      "3   11.173104  200000000  2068178225  Star Wars: The Force Awakens   \n",
      "4    9.335014  190000000  1506249360                     Furious 7   \n",
      "\n",
      "                                                cast          director  \\\n",
      "0  Chris Pratt|Bryce Dallas Howard|Irrfan Khan|Vi...   Colin Trevorrow   \n",
      "1  Tom Hardy|Charlize Theron|Hugh Keays-Byrne|Nic...     George Miller   \n",
      "2  Shailene Woodley|Theo James|Kate Winslet|Ansel...  Robert Schwentke   \n",
      "3  Harrison Ford|Mark Hamill|Carrie Fisher|Adam D...       J.J. Abrams   \n",
      "4  Vin Diesel|Paul Walker|Jason Statham|Michelle ...         James Wan   \n",
      "\n",
      "   runtime                                     genres  vote_count  \\\n",
      "0      124  Action|Adventure|Science Fiction|Thriller        5562   \n",
      "1      120  Action|Adventure|Science Fiction|Thriller        6185   \n",
      "2      119         Adventure|Science Fiction|Thriller        2480   \n",
      "3      136   Action|Adventure|Science Fiction|Fantasy        5292   \n",
      "4      137                      Action|Crime|Thriller        2947   \n",
      "\n",
      "   vote_average  release_year  \n",
      "0           6.5          2015  \n",
      "1           7.1          2015  \n",
      "2           6.3          2015  \n",
      "3           7.5          2015  \n",
      "4           7.3          2015  \n"
     ]
    }
   ],
   "source": [
    "df.drop(['id','imdb_id','production_companies','overview','keywords','homepage','release_date','budget_adj','revenue_adj','tagline'], axis=1,inplace=True)\n",
    "print(df.head())"
   ]
  },
  {
   "cell_type": "markdown",
   "metadata": {},
   "source": [
    "Removing all columns irrelevant to our analysis"
   ]
  },
  {
   "cell_type": "code",
   "execution_count": 69,
   "metadata": {},
   "outputs": [],
   "source": [
    "# Defining a function *Clean* to remove all nulls and duplicates in our dataset\n",
    "def clean(Dataframe):\n",
    "    df.dropna(inplace=True)\n",
    "    df.drop_duplicates(inplace=True)"
   ]
  },
  {
   "cell_type": "code",
   "execution_count": 70,
   "metadata": {},
   "outputs": [
    {
     "name": "stdout",
     "output_type": "stream",
     "text": [
      "popularity        0\n",
      "budget            0\n",
      "revenue           0\n",
      "original_title    0\n",
      "cast              0\n",
      "director          0\n",
      "runtime           0\n",
      "genres            0\n",
      "vote_count        0\n",
      "vote_average      0\n",
      "release_year      0\n",
      "dtype: int64\n",
      "0\n"
     ]
    }
   ],
   "source": [
    "# Calling our function and checking if there are still any nulls or duplicates\n",
    "clean(df)\n",
    "print(df.isna().sum())\n",
    "print(df.duplicated().sum())"
   ]
  },
  {
   "cell_type": "markdown",
   "metadata": {},
   "source": [
    "Dropping all nulls and duplicates"
   ]
  },
  {
   "cell_type": "code",
   "execution_count": 71,
   "metadata": {},
   "outputs": [],
   "source": [
    "# Creating new column lead actor by extracting the first actor from the cast column\n",
    "df['lead_actor'] = df['cast'].str.split('|')\n",
    "df['lead_actor'] = df['cast'].str.split('|',expand=True)\n",
    "# Creating new column genre by extracting the first genre from the genres column\n",
    "df['genre'] = df['genres'].str.split('|')\n",
    "df['genre'] = df['genres'].str.split('|',expand=True)\n",
    "# Creating new column gross profit column by subtracting the revenue from the budget\n",
    "df['gross_profit'] = df['revenue'] - df['budget']\n",
    "# Rearranging columns for better view\n",
    "df = df[[\"original_title\", \"release_year\", \"director\",\"lead_actor\",\"cast\",'genre',\"genres\",\"runtime\",\"vote_average\",\"vote_count\",\"budget\",\"revenue\",\"gross_profit\",\"popularity\"]]"
   ]
  },
  {
   "cell_type": "markdown",
   "metadata": {},
   "source": [
    "Creating new columns and rearranging the dataset"
   ]
  },
  {
   "cell_type": "markdown",
   "metadata": {},
   "source": [
    "Now we have a clean dataset ready for analysis"
   ]
  },
  {
   "cell_type": "markdown",
   "metadata": {},
   "source": [
    "<a id='eda'></a>\n",
    "## Exploratory Data Analysis\n",
    "\n",
    "\n",
    "\n",
    "### Research Question 1 (Do older movies have higher average rating?)"
   ]
  },
  {
   "cell_type": "code",
   "execution_count": 72,
   "metadata": {},
   "outputs": [
    {
     "name": "stdout",
     "output_type": "stream",
     "text": [
      "Average rating of old movies = 6.217987804878049\n",
      "Average rating of new movies = 5.919018809811901\n"
     ]
    },
    {
     "data": {
      "image/png": "[encoded data removed]",
      "text/plain": [
       "<matplotlib.figure.Figure at 0x7fbaf81b4ef0>"
      ]
     },
     "metadata": {
      "needs_background": "light"
     },
     "output_type": "display_data"
    }
   ],
   "source": [
    "# Getting the middle release year in the dataset\n",
    "mean_year = (df['release_year'].max() + df['release_year'].min()) / 2\n",
    "\n",
    "# Creating a new dataframe from the old one and sorting it by release year\n",
    "sorted_year = df.sort_values(by='release_year')\n",
    "\n",
    "# Creating two new dataframes from the sorted one to differentiate old and new movies\n",
    "old = sorted_year.query('release_year <= @mean_year')\n",
    "new = sorted_year.query('release_year > @mean_year')\n",
    "\n",
    "# Printing average rating of old and new movies\n",
    "print(\"Average rating of old movies = {}\".format(old['vote_average'].mean()))\n",
    "print(\"Average rating of new movies = {}\".format(new['vote_average'].mean()))\n",
    "\n",
    "# Creating bar diagrams of average rating for old and new movies\n",
    "plt.bar(['Old','New'],[old.vote_average.mean(),new.vote_average.mean()])\n",
    "plt.title(\"Average ratings for old and new movies\")\n",
    "plt.ylabel(\"Average Rating\");"
   ]
  },
  {
   "cell_type": "markdown",
   "metadata": {},
   "source": [
    "Old movies have higher average rating"
   ]
  },
  {
   "cell_type": "markdown",
   "metadata": {},
   "source": [
    "### Research Question 2  (What kinds of properties are associated with movies that have high revenues?)"
   ]
  },
  {
   "cell_type": "code",
   "execution_count": 73,
   "metadata": {},
   "outputs": [],
   "source": [
    "rev_mean = df.revenue.mean()\n",
    "sorted_revenue = df.sort_values(by='revenue')\n",
    "# Creating two new dataframes from the sorted one to differentiate high and low revenue movies\n",
    "low = sorted_revenue.query('revenue <= @rev_mean')\n",
    "high = sorted_revenue.query('revenue > @rev_mean')"
   ]
  },
  {
   "cell_type": "code",
   "execution_count": 12,
   "metadata": {},
   "outputs": [
    {
     "data": {
      "text/html": [
       "<div>\n",
       "<style scoped>\n",
       "    .dataframe tbody tr th:only-of-type {\n",
       "        vertical-align: middle;\n",
       "    }\n",
       "\n",
       "    .dataframe tbody tr th {\n",
       "        vertical-align: top;\n",
       "    }\n",
       "\n",
       "    .dataframe thead th {\n",
       "        text-align: right;\n",
       "    }\n",
       "</style>\n",
       "<table border=\"1\" class=\"dataframe\">\n",
       "  <thead>\n",
       "    <tr style=\"text-align: right;\">\n",
       "      <th></th>\n",
       "      <th>release_year</th>\n",
       "      <th>runtime</th>\n",
       "      <th>vote_average</th>\n",
       "      <th>vote_count</th>\n",
       "      <th>budget</th>\n",
       "      <th>revenue</th>\n",
       "      <th>gross_profit</th>\n",
       "      <th>popularity</th>\n",
       "    </tr>\n",
       "  </thead>\n",
       "  <tbody>\n",
       "    <tr>\n",
       "      <th>count</th>\n",
       "      <td>8575.000000</td>\n",
       "      <td>8575.000000</td>\n",
       "      <td>8575.000000</td>\n",
       "      <td>8575.000000</td>\n",
       "      <td>8.575000e+03</td>\n",
       "      <td>8.575000e+03</td>\n",
       "      <td>8.575000e+03</td>\n",
       "      <td>8575.000000</td>\n",
       "    </tr>\n",
       "    <tr>\n",
       "      <th>mean</th>\n",
       "      <td>2001.100991</td>\n",
       "      <td>99.900058</td>\n",
       "      <td>5.883405</td>\n",
       "      <td>69.329796</td>\n",
       "      <td>5.394614e+06</td>\n",
       "      <td>4.018594e+06</td>\n",
       "      <td>-1.376020e+06</td>\n",
       "      <td>0.407514</td>\n",
       "    </tr>\n",
       "    <tr>\n",
       "      <th>std</th>\n",
       "      <td>13.300648</td>\n",
       "      <td>31.401787</td>\n",
       "      <td>0.956573</td>\n",
       "      <td>150.962768</td>\n",
       "      <td>1.309992e+07</td>\n",
       "      <td>8.909077e+06</td>\n",
       "      <td>1.267646e+07</td>\n",
       "      <td>0.401735</td>\n",
       "    </tr>\n",
       "    <tr>\n",
       "      <th>min</th>\n",
       "      <td>1960.000000</td>\n",
       "      <td>0.000000</td>\n",
       "      <td>1.500000</td>\n",
       "      <td>10.000000</td>\n",
       "      <td>0.000000e+00</td>\n",
       "      <td>0.000000e+00</td>\n",
       "      <td>-4.139124e+08</td>\n",
       "      <td>0.000188</td>\n",
       "    </tr>\n",
       "    <tr>\n",
       "      <th>25%</th>\n",
       "      <td>1994.000000</td>\n",
       "      <td>90.000000</td>\n",
       "      <td>5.300000</td>\n",
       "      <td>15.000000</td>\n",
       "      <td>0.000000e+00</td>\n",
       "      <td>0.000000e+00</td>\n",
       "      <td>-2.000000e+05</td>\n",
       "      <td>0.180395</td>\n",
       "    </tr>\n",
       "    <tr>\n",
       "      <th>50%</th>\n",
       "      <td>2006.000000</td>\n",
       "      <td>97.000000</td>\n",
       "      <td>5.900000</td>\n",
       "      <td>27.000000</td>\n",
       "      <td>0.000000e+00</td>\n",
       "      <td>0.000000e+00</td>\n",
       "      <td>0.000000e+00</td>\n",
       "      <td>0.315387</td>\n",
       "    </tr>\n",
       "    <tr>\n",
       "      <th>75%</th>\n",
       "      <td>2011.000000</td>\n",
       "      <td>108.000000</td>\n",
       "      <td>6.500000</td>\n",
       "      <td>64.000000</td>\n",
       "      <td>4.619392e+06</td>\n",
       "      <td>1.079430e+06</td>\n",
       "      <td>0.000000e+00</td>\n",
       "      <td>0.509912</td>\n",
       "    </tr>\n",
       "    <tr>\n",
       "      <th>max</th>\n",
       "      <td>2015.000000</td>\n",
       "      <td>900.000000</td>\n",
       "      <td>9.200000</td>\n",
       "      <td>5754.000000</td>\n",
       "      <td>4.250000e+08</td>\n",
       "      <td>4.028332e+07</td>\n",
       "      <td>4.005088e+07</td>\n",
       "      <td>8.411577</td>\n",
       "    </tr>\n",
       "  </tbody>\n",
       "</table>\n",
       "</div>"
      ],
      "text/plain": [
       "       release_year      runtime  vote_average   vote_count        budget  \\\n",
       "count   8575.000000  8575.000000   8575.000000  8575.000000  8.575000e+03   \n",
       "mean    2001.100991    99.900058      5.883405    69.329796  5.394614e+06   \n",
       "std       13.300648    31.401787      0.956573   150.962768  1.309992e+07   \n",
       "min     1960.000000     0.000000      1.500000    10.000000  0.000000e+00   \n",
       "25%     1994.000000    90.000000      5.300000    15.000000  0.000000e+00   \n",
       "50%     2006.000000    97.000000      5.900000    27.000000  0.000000e+00   \n",
       "75%     2011.000000   108.000000      6.500000    64.000000  4.619392e+06   \n",
       "max     2015.000000   900.000000      9.200000  5754.000000  4.250000e+08   \n",
       "\n",
       "            revenue  gross_profit   popularity  \n",
       "count  8.575000e+03  8.575000e+03  8575.000000  \n",
       "mean   4.018594e+06 -1.376020e+06     0.407514  \n",
       "std    8.909077e+06  1.267646e+07     0.401735  \n",
       "min    0.000000e+00 -4.139124e+08     0.000188  \n",
       "25%    0.000000e+00 -2.000000e+05     0.180395  \n",
       "50%    0.000000e+00  0.000000e+00     0.315387  \n",
       "75%    1.079430e+06  0.000000e+00     0.509912  \n",
       "max    4.028332e+07  4.005088e+07     8.411577  "
      ]
     },
     "execution_count": 12,
     "metadata": {},
     "output_type": "execute_result"
    }
   ],
   "source": [
    "low.describe()"
   ]
  },
  {
   "cell_type": "code",
   "execution_count": 13,
   "metadata": {},
   "outputs": [
    {
     "data": {
      "text/html": [
       "<div>\n",
       "<style scoped>\n",
       "    .dataframe tbody tr th:only-of-type {\n",
       "        vertical-align: middle;\n",
       "    }\n",
       "\n",
       "    .dataframe tbody tr th {\n",
       "        vertical-align: top;\n",
       "    }\n",
       "\n",
       "    .dataframe thead th {\n",
       "        text-align: right;\n",
       "    }\n",
       "</style>\n",
       "<table border=\"1\" class=\"dataframe\">\n",
       "  <thead>\n",
       "    <tr style=\"text-align: right;\">\n",
       "      <th></th>\n",
       "      <th>release_year</th>\n",
       "      <th>runtime</th>\n",
       "      <th>vote_average</th>\n",
       "      <th>vote_count</th>\n",
       "      <th>budget</th>\n",
       "      <th>revenue</th>\n",
       "      <th>gross_profit</th>\n",
       "      <th>popularity</th>\n",
       "    </tr>\n",
       "  </thead>\n",
       "  <tbody>\n",
       "    <tr>\n",
       "      <th>count</th>\n",
       "      <td>2156.000000</td>\n",
       "      <td>2156.000000</td>\n",
       "      <td>2156.000000</td>\n",
       "      <td>2156.000000</td>\n",
       "      <td>2.156000e+03</td>\n",
       "      <td>2.156000e+03</td>\n",
       "      <td>2.156000e+03</td>\n",
       "      <td>2156.000000</td>\n",
       "    </tr>\n",
       "    <tr>\n",
       "      <th>mean</th>\n",
       "      <td>2001.890538</td>\n",
       "      <td>112.685529</td>\n",
       "      <td>6.288080</td>\n",
       "      <td>818.325603</td>\n",
       "      <td>5.222593e+07</td>\n",
       "      <td>1.847000e+08</td>\n",
       "      <td>1.324741e+08</td>\n",
       "      <td>1.627447</td>\n",
       "    </tr>\n",
       "    <tr>\n",
       "      <th>std</th>\n",
       "      <td>10.676995</td>\n",
       "      <td>24.000781</td>\n",
       "      <td>0.733173</td>\n",
       "      <td>1062.532791</td>\n",
       "      <td>4.866996e+07</td>\n",
       "      <td>2.061715e+08</td>\n",
       "      <td>1.789746e+08</td>\n",
       "      <td>1.787504</td>\n",
       "    </tr>\n",
       "    <tr>\n",
       "      <th>min</th>\n",
       "      <td>1960.000000</td>\n",
       "      <td>44.000000</td>\n",
       "      <td>3.400000</td>\n",
       "      <td>10.000000</td>\n",
       "      <td>0.000000e+00</td>\n",
       "      <td>4.034619e+07</td>\n",
       "      <td>-1.657101e+08</td>\n",
       "      <td>0.010335</td>\n",
       "    </tr>\n",
       "    <tr>\n",
       "      <th>25%</th>\n",
       "      <td>1996.000000</td>\n",
       "      <td>98.000000</td>\n",
       "      <td>5.800000</td>\n",
       "      <td>193.000000</td>\n",
       "      <td>1.800000e+07</td>\n",
       "      <td>6.719821e+07</td>\n",
       "      <td>4.000000e+07</td>\n",
       "      <td>0.740467</td>\n",
       "    </tr>\n",
       "    <tr>\n",
       "      <th>50%</th>\n",
       "      <td>2004.000000</td>\n",
       "      <td>109.000000</td>\n",
       "      <td>6.300000</td>\n",
       "      <td>423.000000</td>\n",
       "      <td>3.950000e+07</td>\n",
       "      <td>1.137862e+08</td>\n",
       "      <td>7.500553e+07</td>\n",
       "      <td>1.165161</td>\n",
       "    </tr>\n",
       "    <tr>\n",
       "      <th>75%</th>\n",
       "      <td>2010.000000</td>\n",
       "      <td>123.000000</td>\n",
       "      <td>6.800000</td>\n",
       "      <td>976.750000</td>\n",
       "      <td>7.000000e+07</td>\n",
       "      <td>2.143081e+08</td>\n",
       "      <td>1.539243e+08</td>\n",
       "      <td>1.890647</td>\n",
       "    </tr>\n",
       "    <tr>\n",
       "      <th>max</th>\n",
       "      <td>2015.000000</td>\n",
       "      <td>705.000000</td>\n",
       "      <td>8.300000</td>\n",
       "      <td>9767.000000</td>\n",
       "      <td>3.800000e+08</td>\n",
       "      <td>2.781506e+09</td>\n",
       "      <td>2.544506e+09</td>\n",
       "      <td>32.985763</td>\n",
       "    </tr>\n",
       "  </tbody>\n",
       "</table>\n",
       "</div>"
      ],
      "text/plain": [
       "       release_year      runtime  vote_average   vote_count        budget  \\\n",
       "count   2156.000000  2156.000000   2156.000000  2156.000000  2.156000e+03   \n",
       "mean    2001.890538   112.685529      6.288080   818.325603  5.222593e+07   \n",
       "std       10.676995    24.000781      0.733173  1062.532791  4.866996e+07   \n",
       "min     1960.000000    44.000000      3.400000    10.000000  0.000000e+00   \n",
       "25%     1996.000000    98.000000      5.800000   193.000000  1.800000e+07   \n",
       "50%     2004.000000   109.000000      6.300000   423.000000  3.950000e+07   \n",
       "75%     2010.000000   123.000000      6.800000   976.750000  7.000000e+07   \n",
       "max     2015.000000   705.000000      8.300000  9767.000000  3.800000e+08   \n",
       "\n",
       "            revenue  gross_profit   popularity  \n",
       "count  2.156000e+03  2.156000e+03  2156.000000  \n",
       "mean   1.847000e+08  1.324741e+08     1.627447  \n",
       "std    2.061715e+08  1.789746e+08     1.787504  \n",
       "min    4.034619e+07 -1.657101e+08     0.010335  \n",
       "25%    6.719821e+07  4.000000e+07     0.740467  \n",
       "50%    1.137862e+08  7.500553e+07     1.165161  \n",
       "75%    2.143081e+08  1.539243e+08     1.890647  \n",
       "max    2.781506e+09  2.544506e+09    32.985763  "
      ]
     },
     "execution_count": 13,
     "metadata": {},
     "output_type": "execute_result"
    }
   ],
   "source": [
    "high.describe()"
   ]
  },
  {
   "cell_type": "code",
   "execution_count": 14,
   "metadata": {},
   "outputs": [
    {
     "data": {
      "text/html": [
       "<div>\n",
       "<style scoped>\n",
       "    .dataframe tbody tr th:only-of-type {\n",
       "        vertical-align: middle;\n",
       "    }\n",
       "\n",
       "    .dataframe tbody tr th {\n",
       "        vertical-align: top;\n",
       "    }\n",
       "\n",
       "    .dataframe thead th {\n",
       "        text-align: right;\n",
       "    }\n",
       "</style>\n",
       "<table border=\"1\" class=\"dataframe\">\n",
       "  <thead>\n",
       "    <tr style=\"text-align: right;\">\n",
       "      <th></th>\n",
       "      <th>release_year</th>\n",
       "      <th>runtime</th>\n",
       "      <th>vote_average</th>\n",
       "      <th>vote_count</th>\n",
       "      <th>budget</th>\n",
       "      <th>revenue</th>\n",
       "      <th>gross_profit</th>\n",
       "      <th>popularity</th>\n",
       "    </tr>\n",
       "  </thead>\n",
       "  <tbody>\n",
       "    <tr>\n",
       "      <th>count</th>\n",
       "      <td>-6419.000000</td>\n",
       "      <td>-6419.000000</td>\n",
       "      <td>-6419.000000</td>\n",
       "      <td>-6419.000000</td>\n",
       "      <td>-6.419000e+03</td>\n",
       "      <td>-6.419000e+03</td>\n",
       "      <td>-6.419000e+03</td>\n",
       "      <td>-6419.000000</td>\n",
       "    </tr>\n",
       "    <tr>\n",
       "      <th>mean</th>\n",
       "      <td>0.789547</td>\n",
       "      <td>12.785470</td>\n",
       "      <td>0.404675</td>\n",
       "      <td>748.995807</td>\n",
       "      <td>4.683132e+07</td>\n",
       "      <td>1.806814e+08</td>\n",
       "      <td>1.338501e+08</td>\n",
       "      <td>1.219933</td>\n",
       "    </tr>\n",
       "    <tr>\n",
       "      <th>std</th>\n",
       "      <td>-2.623653</td>\n",
       "      <td>-7.401006</td>\n",
       "      <td>-0.223401</td>\n",
       "      <td>911.570023</td>\n",
       "      <td>3.557004e+07</td>\n",
       "      <td>1.972625e+08</td>\n",
       "      <td>1.662981e+08</td>\n",
       "      <td>1.385770</td>\n",
       "    </tr>\n",
       "    <tr>\n",
       "      <th>min</th>\n",
       "      <td>0.000000</td>\n",
       "      <td>44.000000</td>\n",
       "      <td>1.900000</td>\n",
       "      <td>0.000000</td>\n",
       "      <td>0.000000e+00</td>\n",
       "      <td>4.034619e+07</td>\n",
       "      <td>2.482023e+08</td>\n",
       "      <td>0.010147</td>\n",
       "    </tr>\n",
       "    <tr>\n",
       "      <th>25%</th>\n",
       "      <td>2.000000</td>\n",
       "      <td>8.000000</td>\n",
       "      <td>0.500000</td>\n",
       "      <td>178.000000</td>\n",
       "      <td>1.800000e+07</td>\n",
       "      <td>6.719821e+07</td>\n",
       "      <td>4.020000e+07</td>\n",
       "      <td>0.560072</td>\n",
       "    </tr>\n",
       "    <tr>\n",
       "      <th>50%</th>\n",
       "      <td>-2.000000</td>\n",
       "      <td>12.000000</td>\n",
       "      <td>0.400000</td>\n",
       "      <td>396.000000</td>\n",
       "      <td>3.950000e+07</td>\n",
       "      <td>1.137862e+08</td>\n",
       "      <td>7.500553e+07</td>\n",
       "      <td>0.849774</td>\n",
       "    </tr>\n",
       "    <tr>\n",
       "      <th>75%</th>\n",
       "      <td>-1.000000</td>\n",
       "      <td>15.000000</td>\n",
       "      <td>0.300000</td>\n",
       "      <td>912.750000</td>\n",
       "      <td>6.538061e+07</td>\n",
       "      <td>2.132286e+08</td>\n",
       "      <td>1.539243e+08</td>\n",
       "      <td>1.380735</td>\n",
       "    </tr>\n",
       "    <tr>\n",
       "      <th>max</th>\n",
       "      <td>0.000000</td>\n",
       "      <td>-195.000000</td>\n",
       "      <td>-0.900000</td>\n",
       "      <td>4013.000000</td>\n",
       "      <td>-4.500000e+07</td>\n",
       "      <td>2.741223e+09</td>\n",
       "      <td>2.504455e+09</td>\n",
       "      <td>24.574186</td>\n",
       "    </tr>\n",
       "  </tbody>\n",
       "</table>\n",
       "</div>"
      ],
      "text/plain": [
       "       release_year      runtime  vote_average   vote_count        budget  \\\n",
       "count  -6419.000000 -6419.000000  -6419.000000 -6419.000000 -6.419000e+03   \n",
       "mean       0.789547    12.785470      0.404675   748.995807  4.683132e+07   \n",
       "std       -2.623653    -7.401006     -0.223401   911.570023  3.557004e+07   \n",
       "min        0.000000    44.000000      1.900000     0.000000  0.000000e+00   \n",
       "25%        2.000000     8.000000      0.500000   178.000000  1.800000e+07   \n",
       "50%       -2.000000    12.000000      0.400000   396.000000  3.950000e+07   \n",
       "75%       -1.000000    15.000000      0.300000   912.750000  6.538061e+07   \n",
       "max        0.000000  -195.000000     -0.900000  4013.000000 -4.500000e+07   \n",
       "\n",
       "            revenue  gross_profit   popularity  \n",
       "count -6.419000e+03 -6.419000e+03 -6419.000000  \n",
       "mean   1.806814e+08  1.338501e+08     1.219933  \n",
       "std    1.972625e+08  1.662981e+08     1.385770  \n",
       "min    4.034619e+07  2.482023e+08     0.010147  \n",
       "25%    6.719821e+07  4.020000e+07     0.560072  \n",
       "50%    1.137862e+08  7.500553e+07     0.849774  \n",
       "75%    2.132286e+08  1.539243e+08     1.380735  \n",
       "max    2.741223e+09  2.504455e+09    24.574186  "
      ]
     },
     "execution_count": 14,
     "metadata": {},
     "output_type": "execute_result"
    }
   ],
   "source": [
    "high.describe() - low.describe()"
   ]
  },
  {
   "cell_type": "markdown",
   "metadata": {},
   "source": [
    "As we can see above, higher revenue movies have higher average runtime,rating,budget and popularity"
   ]
  },
  {
   "cell_type": "code",
   "execution_count": 83,
   "metadata": {},
   "outputs": [
    {
     "data": {
      "image/png": "[encoded data removed]",
      "text/plain": [
       "<matplotlib.figure.Figure at 0x7fbac95578d0>"
      ]
     },
     "metadata": {
      "needs_background": "light"
     },
     "output_type": "display_data"
    }
   ],
   "source": [
    "# Finding out the relation between runtime and revenue\n",
    "plt.bar(['Low revenue','High revenue'],[low.runtime.mean(),high.runtime.mean()])\n",
    "plt.title(\"Average runtime for high and low revenue movies\")\n",
    "plt.ylabel(\"Average runtime in minutes\");"
   ]
  },
  {
   "cell_type": "code",
   "execution_count": 75,
   "metadata": {},
   "outputs": [
    {
     "data": {
      "image/png": "[encoded data removed]",
      "text/plain": [
       "<matplotlib.figure.Figure at 0x7fbad2fc2908>"
      ]
     },
     "metadata": {
      "needs_background": "light"
     },
     "output_type": "display_data"
    }
   ],
   "source": [
    "# Finding out the relation between vote average and revenue\n",
    "# The 3 following plots are scatter plots since both columns are numerical and we want to understand the correlastion\n",
    "high.plot(x='revenue',y='vote_average',title='Vote average to revenue correlation',kind='scatter');"
   ]
  },
  {
   "cell_type": "markdown",
   "metadata": {},
   "source": [
    "We deduce that the vote average and revenue have a positive correlation"
   ]
  },
  {
   "cell_type": "code",
   "execution_count": 76,
   "metadata": {},
   "outputs": [
    {
     "data": {
      "image/png": "[encoded data removed]",
      "text/plain": [
       "<matplotlib.figure.Figure at 0x7fbad3ba67f0>"
      ]
     },
     "metadata": {
      "needs_background": "light"
     },
     "output_type": "display_data"
    }
   ],
   "source": [
    "# Finding out the relation between budget and revenue\n",
    "high.plot(x='budget',y='revenue',title='Budget to revenue correlation',kind='scatter');"
   ]
  },
  {
   "cell_type": "markdown",
   "metadata": {},
   "source": [
    "We deduce that the budget and revenue have a positive correlation"
   ]
  },
  {
   "cell_type": "code",
   "execution_count": 77,
   "metadata": {},
   "outputs": [
    {
     "data": {
      "image/png": "[encoded data removed]",
      "text/plain": [
       "<matplotlib.figure.Figure at 0x7fbacb43a390>"
      ]
     },
     "metadata": {
      "needs_background": "light"
     },
     "output_type": "display_data"
    }
   ],
   "source": [
    "# Finding out the relation between popularity and revenue\n",
    "df.plot(x='revenue',y='popularity',title='Popularity to revenue correlation',kind='scatter');"
   ]
  },
  {
   "cell_type": "markdown",
   "metadata": {},
   "source": [
    "We deduce that the popularity and revenue have a positive correlation"
   ]
  },
  {
   "cell_type": "markdown",
   "metadata": {},
   "source": [
    "### Research Question 3  (Which genres are most popular from year to year?)"
   ]
  },
  {
   "cell_type": "code",
   "execution_count": 85,
   "metadata": {},
   "outputs": [
    {
     "name": "stdout",
     "output_type": "stream",
     "text": [
      "                 genre  popularity\n",
      "release_year                      \n",
      "1960          Thriller    2.610362\n",
      "1961           Western    2.631987\n",
      "1962           Western    3.170651\n",
      "1963           Romance    2.508235\n",
      "1964           Western    3.153791\n",
      "1965               War    1.910465\n",
      "1966           Western    1.227582\n",
      "1967           Western    2.550704\n",
      "1968           Western    3.309196\n",
      "1969          Thriller    1.778746\n",
      "1970           Western    1.936962\n",
      "1971           Western    3.072555\n",
      "1972           Western    5.738034\n",
      "1973           Western    2.272486\n",
      "1974          Thriller    3.264571\n",
      "1975           Western    3.258151\n",
      "1976          Thriller    2.582657\n",
      "1977           Western   12.037933\n",
      "1978          Thriller    1.697618\n",
      "1979           Western    4.935897\n",
      "1980           Western    5.488441\n",
      "1981          Thriller    4.578300\n",
      "1982           Western    4.215642\n",
      "1983               War    4.828854\n",
      "1984               War    4.831966\n",
      "1985          Thriller    6.095293\n",
      "1986          Thriller    2.485419\n",
      "1987               War    3.474728\n",
      "1988               War    3.777441\n",
      "1989               War    4.143585\n",
      "1990           Western    2.679627\n",
      "1991               War    3.852269\n",
      "1992           Western    4.586426\n",
      "1993           Western    2.571339\n",
      "1994           Western    8.093754\n",
      "1995               War    4.765359\n",
      "1996          Thriller    4.480733\n",
      "1997          Thriller    6.668990\n",
      "1998          Thriller    4.180540\n",
      "1999           Western    8.947905\n",
      "2000          Thriller    4.271452\n",
      "2001               War    8.575419\n",
      "2002           Western    8.095275\n",
      "2003           Western    7.122455\n",
      "2004           Western    5.827781\n",
      "2005          Thriller    5.939927\n",
      "2006           Western    5.838503\n",
      "2007           Western    4.965391\n",
      "2008               War    8.466668\n",
      "2009               War    9.432768\n",
      "2010               War    9.363643\n",
      "2011               War    8.411577\n",
      "2012               War    7.637767\n",
      "2013           Western    6.112766\n",
      "2014           Western   24.949134\n",
      "2015           Western   32.985763\n"
     ]
    }
   ],
   "source": [
    "# Grouping by year and showing the genre with the highest popularity\n",
    "pg = df.groupby(['release_year'])[['genre','popularity']].max()\n",
    "print(pg)"
   ]
  },
  {
   "cell_type": "markdown",
   "metadata": {},
   "source": [
    "The most popular genre from each year"
   ]
  },
  {
   "cell_type": "code",
   "execution_count": 86,
   "metadata": {},
   "outputs": [
    {
     "data": {
      "image/png": "[encoded data removed]",
      "text/plain": [
       "<matplotlib.figure.Figure at 0x7fbac9d34f60>"
      ]
     },
     "metadata": {
      "needs_background": "light"
     },
     "output_type": "display_data"
    }
   ],
   "source": [
    "# Plotting movie genres with the highest popularity by year as a bar diagram\n",
    "pgp = pg.plot(kind=\"bar\",title='Genre with highest popularity by year',figsize=(15,15))\n",
    "pgp.set(ylabel='Popularity');"
   ]
  },
  {
   "cell_type": "markdown",
   "metadata": {},
   "source": [
    "### Research Question 4  (Rank all movies directed by Christopher Nolan from worse to best)"
   ]
  },
  {
   "cell_type": "code",
   "execution_count": 24,
   "metadata": {},
   "outputs": [
    {
     "data": {
      "text/html": [
       "<div>\n",
       "<style scoped>\n",
       "    .dataframe tbody tr th:only-of-type {\n",
       "        vertical-align: middle;\n",
       "    }\n",
       "\n",
       "    .dataframe tbody tr th {\n",
       "        vertical-align: top;\n",
       "    }\n",
       "\n",
       "    .dataframe thead th {\n",
       "        text-align: right;\n",
       "    }\n",
       "</style>\n",
       "<table border=\"1\" class=\"dataframe\">\n",
       "  <thead>\n",
       "    <tr style=\"text-align: right;\">\n",
       "      <th></th>\n",
       "      <th>original_title</th>\n",
       "      <th>release_year</th>\n",
       "      <th>vote_average</th>\n",
       "    </tr>\n",
       "  </thead>\n",
       "  <tbody>\n",
       "    <tr>\n",
       "      <th>2875</th>\n",
       "      <td>The Dark Knight</td>\n",
       "      <td>2008</td>\n",
       "      <td>8.1</td>\n",
       "    </tr>\n",
       "    <tr>\n",
       "      <th>629</th>\n",
       "      <td>Interstellar</td>\n",
       "      <td>2014</td>\n",
       "      <td>8.0</td>\n",
       "    </tr>\n",
       "    <tr>\n",
       "      <th>1919</th>\n",
       "      <td>Inception</td>\n",
       "      <td>2010</td>\n",
       "      <td>7.9</td>\n",
       "    </tr>\n",
       "    <tr>\n",
       "      <th>8662</th>\n",
       "      <td>Memento</td>\n",
       "      <td>2000</td>\n",
       "      <td>7.9</td>\n",
       "    </tr>\n",
       "    <tr>\n",
       "      <th>6565</th>\n",
       "      <td>The Prestige</td>\n",
       "      <td>2006</td>\n",
       "      <td>7.8</td>\n",
       "    </tr>\n",
       "    <tr>\n",
       "      <th>4363</th>\n",
       "      <td>The Dark Knight Rises</td>\n",
       "      <td>2012</td>\n",
       "      <td>7.5</td>\n",
       "    </tr>\n",
       "    <tr>\n",
       "      <th>6191</th>\n",
       "      <td>Batman Begins</td>\n",
       "      <td>2005</td>\n",
       "      <td>7.3</td>\n",
       "    </tr>\n",
       "    <tr>\n",
       "      <th>9129</th>\n",
       "      <td>Following</td>\n",
       "      <td>1998</td>\n",
       "      <td>7.1</td>\n",
       "    </tr>\n",
       "    <tr>\n",
       "      <th>3955</th>\n",
       "      <td>Insomnia</td>\n",
       "      <td>2002</td>\n",
       "      <td>6.6</td>\n",
       "    </tr>\n",
       "    <tr>\n",
       "      <th>5399</th>\n",
       "      <td>Doodlebug</td>\n",
       "      <td>1997</td>\n",
       "      <td>6.5</td>\n",
       "    </tr>\n",
       "  </tbody>\n",
       "</table>\n",
       "</div>"
      ],
      "text/plain": [
       "             original_title  release_year  vote_average\n",
       "2875        The Dark Knight          2008           8.1\n",
       "629            Interstellar          2014           8.0\n",
       "1919              Inception          2010           7.9\n",
       "8662                Memento          2000           7.9\n",
       "6565           The Prestige          2006           7.8\n",
       "4363  The Dark Knight Rises          2012           7.5\n",
       "6191          Batman Begins          2005           7.3\n",
       "9129              Following          1998           7.1\n",
       "3955               Insomnia          2002           6.6\n",
       "5399              Doodlebug          1997           6.5"
      ]
     },
     "execution_count": 24,
     "metadata": {},
     "output_type": "execute_result"
    }
   ],
   "source": [
    "# Extracting Nolan's movies\n",
    "cn = df[df['director'].str.contains('Christopher Nolan')][['original_title','release_year','vote_average']]\n",
    "# Sorting by vote_average descendingly\n",
    "cn.sort_values(by='vote_average',ascending=False,inplace=True)\n",
    "cn"
   ]
  },
  {
   "cell_type": "markdown",
   "metadata": {},
   "source": [
    "Retrieving title,year and average rating for all movies directed by Nolan and sorting them by the rating descendingly"
   ]
  },
  {
   "cell_type": "code",
   "execution_count": 32,
   "metadata": {},
   "outputs": [
    {
     "data": {
      "image/png": "[encoded data removed]",
      "text/plain": [
       "<matplotlib.figure.Figure at 0x7fbac922c630>"
      ]
     },
     "metadata": {
      "needs_background": "light"
     },
     "output_type": "display_data"
    }
   ],
   "source": [
    "# Plotting the movie ranks\n",
    "cnp = cn.plot.barh(x='original_title',y='vote_average',title='Average rating of all Nolan movies',figsize=(10,5))\n",
    "cnp.set(xlabel=\"Vote Average\", ylabel=\"Movie Title\");"
   ]
  },
  {
   "cell_type": "markdown",
   "metadata": {},
   "source": [
    "Plotting our finding"
   ]
  },
  {
   "cell_type": "markdown",
   "metadata": {},
   "source": [
    "<a id='conclusions'></a>\n",
    "## Conclusions\n",
    "\n",
    "> We conclude from all previous analysis that older movies have higher average rating, new movies have much higher popularity, movies with high revenues have higher average rating, populairty, runtime and budget, we also found out which genres are most popular by year.\n",
    "\n",
    "> Our exploration has few limitations regarding the point where we dropped all nulls in the dataset rather than filling them randomly, since they were string datatypes and can't be filled from different movies, and this choise might affect the analysis overall quality, we also dropped all columns irrelevant to our analysis , it's not really a limitation but some analysts might prefer using these columns elsewhere. \n",
    "\n"
   ]
  },
  {
   "cell_type": "code",
   "execution_count": 87,
   "metadata": {},
   "outputs": [
    {
     "data": {
      "text/plain": [
       "0"
      ]
     },
     "execution_count": 87,
     "metadata": {},
     "output_type": "execute_result"
    }
   ],
   "source": [
    "from subprocess import call\n",
    "call(['python', '-m', 'nbconvert', 'Investigate_a_Dataset.ipynb'])"
   ]
  },
  {
   "cell_type": "code",
   "execution_count": null,
   "metadata": {},
   "outputs": [],
   "source": []
  }
 ],
 "metadata": {
  "kernelspec": {
   "display_name": "Python 3",
   "language": "python",
   "name": "python3"
  },
  "language_info": {
   "codemirror_mode": {
    "name": "ipython",
    "version": 3
   },
   "file_extension": ".py",
   "mimetype": "text/x-python",
   "name": "python",
   "nbconvert_exporter": "python",
   "pygments_lexer": "ipython3",
   "version": "3.6.3"
  }
 },
 "nbformat": 4,
 "nbformat_minor": 2
}
